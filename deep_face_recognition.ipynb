{
  "nbformat": 4,
  "nbformat_minor": 0,
  "metadata": {
    "colab": {
      "provenance": [],
      "gpuType": "T4",
      "authorship_tag": "ABX9TyMt3eO4fnM4a3Gff5xdznVR",
      "include_colab_link": true
    },
    "kernelspec": {
      "name": "python3",
      "display_name": "Python 3"
    },
    "language_info": {
      "name": "python"
    },
    "accelerator": "GPU"
  },
  "cells": [
    {
      "cell_type": "markdown",
      "metadata": {
        "id": "view-in-github",
        "colab_type": "text"
      },
      "source": [
        "<a href=\"https://colab.research.google.com/github/asu2304/Face_recognition_using_siamese_network/blob/main/deep_face_recognition.ipynb\" target=\"_parent\"><img src=\"https://colab.research.google.com/assets/colab-badge.svg\" alt=\"Open In Colab\"/></a>"
      ]
    },
    {
      "cell_type": "code",
      "source": [
        "import cv2\n",
        "import os\n",
        "import random\n",
        "import numpy as np\n",
        "from matplotlib import pyplot as plt"
      ],
      "metadata": {
        "id": "c8_CnHBVWRFm"
      },
      "execution_count": 2,
      "outputs": []
    },
    {
      "cell_type": "code",
      "source": [
        "from tensorflow.keras.models import Model\n",
        "from tensorflow.keras.layers import Layer, Conv2D, Dense, MaxPooling2D, Input, Flatten"
      ],
      "metadata": {
        "id": "FIhladonWS-I"
      },
      "execution_count": 3,
      "outputs": []
    },
    {
      "cell_type": "code",
      "source": [
        "POS_PATH = \"/content/sample_data/positive\"\n",
        "NEG_PATH = \"/content/sample_data/negative\"\n",
        "ANC_PATH = \"/content/sample_data/anchor\""
      ],
      "metadata": {
        "id": "Kpnt0eSaWKPs"
      },
      "execution_count": 24,
      "outputs": []
    },
    {
      "cell_type": "code",
      "source": [
        "# os.getcwd()\n",
        "# /content/sample_data/anchor"
      ],
      "metadata": {
        "id": "Yt_jpx-XW4k1"
      },
      "execution_count": 26,
      "outputs": []
    },
    {
      "cell_type": "code",
      "source": [
        "import tensorflow as tf"
      ],
      "metadata": {
        "id": "kFEaV2nMWt6G"
      },
      "execution_count": 21,
      "outputs": []
    },
    {
      "cell_type": "code",
      "execution_count": 35,
      "metadata": {
        "id": "OOV59i15HD4c"
      },
      "outputs": [],
      "source": [
        "anchor = tf.data.Dataset.list_files(ANC_PATH+'/*.jpg').take(300)\n",
        "positive = tf.data.Dataset.list_files(POS_PATH+'/*.jpg').take(300)\n",
        "negative = tf.data.Dataset.list_files(NEG_PATH+'/*.jpg').take(300)"
      ]
    },
    {
      "cell_type": "code",
      "source": [
        "def preprocess(file_path):\n",
        "\n",
        "    byte_img = tf.io.read_file(file_path)\n",
        "    img = tf.io.decode_jpeg(byte_img)\n",
        "    img = tf.image.resize(img, (100,100))\n",
        "    img = img / 255.0\n",
        "\n",
        "    return img"
      ],
      "metadata": {
        "id": "E6YdzD_7WrYj"
      },
      "execution_count": 36,
      "outputs": []
    },
    {
      "cell_type": "code",
      "source": [
        "positives = tf.data.Dataset.zip((anchor, positive, tf.data.Dataset.from_tensor_slices(tf.ones(len(anchor)))))\n",
        "negatives = tf.data.Dataset.zip((anchor, negative, tf.data.Dataset.from_tensor_slices(tf.zeros(len(anchor)))))\n",
        "data = positives.concatenate(negatives)"
      ],
      "metadata": {
        "id": "LD6260wxYVGg"
      },
      "execution_count": 37,
      "outputs": []
    },
    {
      "cell_type": "code",
      "source": [
        "sample = data.as_numpy_iterator()"
      ],
      "metadata": {
        "id": "8bDgLrZIYWiz"
      },
      "execution_count": 38,
      "outputs": []
    },
    {
      "cell_type": "code",
      "source": [
        "eg = sample.next()\n",
        "eg"
      ],
      "metadata": {
        "colab": {
          "base_uri": "https://localhost:8080/",
          "height": 0
        },
        "id": "3sVbWfmpY-HU",
        "outputId": "bd9ec8c8-4ee3-43a5-9970-0f5e759d3e8d"
      },
      "execution_count": 39,
      "outputs": [
        {
          "output_type": "execute_result",
          "data": {
            "text/plain": [
              "(b'/content/sample_data/anchor/461bcb07-2bb9-11ee-ac0d-204ef6489e9c.jpg',\n",
              " b'/content/sample_data/positive/810acd42-2bba-11ee-b148-204ef6489e9c.jpg',\n",
              " 1.0)"
            ]
          },
          "metadata": {},
          "execution_count": 39
        }
      ]
    },
    {
      "cell_type": "code",
      "source": [
        "def preprocess_twin(input_img, validation_img, label):\n",
        "    return (preprocess(input_img) , preprocess(validation_img) , label)"
      ],
      "metadata": {
        "id": "URMDJVMgY_ii"
      },
      "execution_count": 40,
      "outputs": []
    },
    {
      "cell_type": "code",
      "source": [
        "# preprocess_twin(*eg)\n",
        "res = preprocess_twin(*eg)\n",
        "plt.imshow(res[0])"
      ],
      "metadata": {
        "colab": {
          "base_uri": "https://localhost:8080/",
          "height": 450
        },
        "id": "3gaX1_KrZC6H",
        "outputId": "f3a2dda7-1e5d-45ef-f2c5-81a7415bdd61"
      },
      "execution_count": 41,
      "outputs": [
        {
          "output_type": "execute_result",
          "data": {
            "text/plain": [
              "<matplotlib.image.AxesImage at 0x7a4724bd7190>"
            ]
          },
          "metadata": {},
          "execution_count": 41
        },
        {
          "output_type": "display_data",
          "data": {
            "text/plain": [
              "<Figure size 640x480 with 1 Axes>"
            ],
            "image/png": "[encoded data removed]"
          },
          "metadata": {}
        }
      ]
    },
    {
      "cell_type": "code",
      "source": [
        "data = data.map(preprocess_twin)\n",
        "data = data.cache()\n",
        "data = data.shuffle(buffer_size = 1024)"
      ],
      "metadata": {
        "id": "eXl3vLlkZF34"
      },
      "execution_count": 42,
      "outputs": []
    },
    {
      "cell_type": "code",
      "source": [
        "# training partitian\n",
        "train_data = data.take(round(len(data)*0.7))\n",
        "train_data = train_data.batch(16)\n",
        "train_data = train_data.prefetch(8)"
      ],
      "metadata": {
        "id": "94ClCfQcZNZb"
      },
      "execution_count": 43,
      "outputs": []
    },
    {
      "cell_type": "code",
      "source": [
        "train_samples = train_data.as_numpy_iterator()\n",
        "train_sample = train_samples.next()\n",
        "plt.imshow(train_sample[0][6])"
      ],
      "metadata": {
        "colab": {
          "base_uri": "https://localhost:8080/",
          "height": 450
        },
        "id": "JwbdAExoZQVF",
        "outputId": "cfe9668e-0c0c-4b3f-bb32-9de687d664ca"
      },
      "execution_count": 44,
      "outputs": [
        {
          "output_type": "execute_result",
          "data": {
            "text/plain": [
              "<matplotlib.image.AxesImage at 0x7a47200ee710>"
            ]
          },
          "metadata": {},
          "execution_count": 44
        },
        {
          "output_type": "display_data",
          "data": {
            "text/plain": [
              "<Figure size 640x480 with 1 Axes>"
            ],
            "image/png": "[encoded data removed]"
          },
          "metadata": {}
        }
      ]
    },
    {
      "cell_type": "code",
      "source": [
        "#  we have batch of 16\n",
        "len(train_sample[0])"
      ],
      "metadata": {
        "colab": {
          "base_uri": "https://localhost:8080/",
          "height": 0
        },
        "id": "YIiNNMLqZTtp",
        "outputId": "8583cfda-86b9-41c7-c930-4b7bcff95815"
      },
      "execution_count": 45,
      "outputs": [
        {
          "output_type": "execute_result",
          "data": {
            "text/plain": [
              "16"
            ]
          },
          "metadata": {},
          "execution_count": 45
        }
      ]
    },
    {
      "cell_type": "code",
      "source": [
        "# testing partitian\n",
        "test_data = data.skip(round(len(data)*0.7))\n",
        "test_data = test_data.batch(16)\n",
        "test_data = test_data.prefetch(8)\n",
        "# test_data = data.take(round(len(data)*0.3)) # no sense writing it"
      ],
      "metadata": {
        "id": "2kxwLv_GZW_9"
      },
      "execution_count": 46,
      "outputs": []
    },
    {
      "cell_type": "code",
      "source": [
        "def make_embedding():\n",
        "\n",
        "    # first block\n",
        "    inp = Input(shape = (100, 100, 3), name = 'input_image')\n",
        "    c1 = Conv2D(64, (10, 10), activation = 'relu')(inp)\n",
        "    m1 = MaxPooling2D(64, (2, 2), padding = 'same')(c1)\n",
        "\n",
        "    # second block\n",
        "    c2 = Conv2D(128, (7,7), activation = 'relu')(m1)\n",
        "    m2 = MaxPooling2D(64, (2, 2), padding = 'same')(c2)\n",
        "\n",
        "    # third block\n",
        "    c3 = Conv2D(128, (4,4), activation = 'relu')(m2)\n",
        "    m3 = MaxPooling2D(64, (2, 2), padding = 'same')(c3)\n",
        "\n",
        "    # fouth layer\n",
        "    c4 = Conv2D(256, (4,4), activation = 'relu')(m3)\n",
        "    f1 = Flatten()(c4)\n",
        "    d1 = Dense(4096, activation = 'sigmoid')(f1)\n",
        "\n",
        "    return Model(inputs = [inp], outputs = [d1], name = 'embedding')\n",
        ""
      ],
      "metadata": {
        "id": "KQ7HLZ2NZZdT"
      },
      "execution_count": 47,
      "outputs": []
    },
    {
      "cell_type": "code",
      "source": [
        "embedding = make_embedding()\n",
        "embedding.summary()"
      ],
      "metadata": {
        "colab": {
          "base_uri": "https://localhost:8080/",
          "height": 0
        },
        "id": "gtlhjerZZcVf",
        "outputId": "82fbadc7-066d-49ae-f2b7-533d3dde51c4"
      },
      "execution_count": 48,
      "outputs": [
        {
          "output_type": "stream",
          "name": "stdout",
          "text": [
            "Model: \"embedding\"\n",
            "_________________________________________________________________\n",
            " Layer (type)                Output Shape              Param #   \n",
            "=================================================================\n",
            " input_image (InputLayer)    [(None, 100, 100, 3)]     0         \n",
            "                                                                 \n",
            " conv2d (Conv2D)             (None, 91, 91, 64)        19264     \n",
            "                                                                 \n",
            " max_pooling2d (MaxPooling2D  (None, 46, 46, 64)       0         \n",
            " )                                                               \n",
            "                                                                 \n",
            " conv2d_1 (Conv2D)           (None, 40, 40, 128)       401536    \n",
            "                                                                 \n",
            " max_pooling2d_1 (MaxPooling  (None, 20, 20, 128)      0         \n",
            " 2D)                                                             \n",
            "                                                                 \n",
            " conv2d_2 (Conv2D)           (None, 17, 17, 128)       262272    \n",
            "                                                                 \n",
            " max_pooling2d_2 (MaxPooling  (None, 9, 9, 128)        0         \n",
            " 2D)                                                             \n",
            "                                                                 \n",
            " conv2d_3 (Conv2D)           (None, 6, 6, 256)         524544    \n",
            "                                                                 \n",
            " flatten (Flatten)           (None, 9216)              0         \n",
            "                                                                 \n",
            " dense (Dense)               (None, 4096)              37752832  \n",
            "                                                                 \n",
            "=================================================================\n",
            "Total params: 38,960,448\n",
            "Trainable params: 38,960,448\n",
            "Non-trainable params: 0\n",
            "_________________________________________________________________\n"
          ]
        }
      ]
    },
    {
      "cell_type": "code",
      "source": [
        "# will create a custom nn layer\n",
        "class L1Dist(Layer):\n",
        "\n",
        "    def __init__(self, **kwargs):\n",
        "        super().__init__()\n",
        "\n",
        "    # the crux of the paper lies here(charaterstics of the siamese nn)!\n",
        "    def call(self, input_embedding, validation_embedding):\n",
        "        return tf.math.abs(input_embedding - validation_embedding)\n",
        "\n",
        ""
      ],
      "metadata": {
        "id": "3YSTKiE5ZemB"
      },
      "execution_count": 49,
      "outputs": []
    },
    {
      "cell_type": "code",
      "source": [
        "l1 = L1Dist()\n",
        "l1"
      ],
      "metadata": {
        "colab": {
          "base_uri": "https://localhost:8080/",
          "height": 0
        },
        "id": "vTS_YX6mZkr2",
        "outputId": "ab4b5bcc-2043-4cef-be2f-01fbe9756e31"
      },
      "execution_count": 50,
      "outputs": [
        {
          "output_type": "execute_result",
          "data": {
            "text/plain": [
              "<__main__.L1Dist at 0x7a46eb9a0e20>"
            ]
          },
          "metadata": {},
          "execution_count": 50
        }
      ]
    },
    {
      "cell_type": "code",
      "source": [
        "def make_siamese_model():\n",
        "\n",
        "    input_image = Input(name = 'input_img', shape = (100, 100, 3))\n",
        "    validation_image = Input(name = 'validation_img', shape = (100, 100, 3))\n",
        "\n",
        "    siamese_layer = L1Dist(name = 'distance')\n",
        "#     siamese_layer.name = 'distance'\n",
        "    distances = siamese_layer(embedding(input_image), embedding(validation_image))\n",
        "\n",
        "    # final classification layer\n",
        "    classifier = Dense(1, activation = 'sigmoid')(distances)\n",
        "\n",
        "    return Model(inputs = [input_image, validation_image], outputs = classifier, name = 'SiameseNetwork')"
      ],
      "metadata": {
        "id": "i-PqldlMZnU8"
      },
      "execution_count": 51,
      "outputs": []
    },
    {
      "cell_type": "code",
      "source": [
        "siamese_model = make_siamese_model()\n",
        "siamese_model.summary()"
      ],
      "metadata": {
        "colab": {
          "base_uri": "https://localhost:8080/",
          "height": 0
        },
        "id": "NifQHKPVZpfB",
        "outputId": "ccaad0de-2e3d-4f41-ca31-30261bc30fb3"
      },
      "execution_count": 52,
      "outputs": [
        {
          "output_type": "stream",
          "name": "stdout",
          "text": [
            "Model: \"SiameseNetwork\"\n",
            "__________________________________________________________________________________________________\n",
            " Layer (type)                   Output Shape         Param #     Connected to                     \n",
            "==================================================================================================\n",
            " input_img (InputLayer)         [(None, 100, 100, 3  0           []                               \n",
            "                                )]                                                                \n",
            "                                                                                                  \n",
            " validation_img (InputLayer)    [(None, 100, 100, 3  0           []                               \n",
            "                                )]                                                                \n",
            "                                                                                                  \n",
            " embedding (Functional)         (None, 4096)         38960448    ['input_img[0][0]',              \n",
            "                                                                  'validation_img[0][0]']         \n",
            "                                                                                                  \n",
            " l1_dist_1 (L1Dist)             (None, 4096)         0           ['embedding[0][0]',              \n",
            "                                                                  'embedding[1][0]']              \n",
            "                                                                                                  \n",
            " dense_1 (Dense)                (None, 1)            4097        ['l1_dist_1[0][0]']              \n",
            "                                                                                                  \n",
            "==================================================================================================\n",
            "Total params: 38,964,545\n",
            "Trainable params: 38,964,545\n",
            "Non-trainable params: 0\n",
            "__________________________________________________________________________________________________\n"
          ]
        }
      ]
    },
    {
      "cell_type": "code",
      "source": [
        "binary_cross_loss = tf.losses.BinaryCrossentropy() # recommended set logits = true when the data is not standerizer\n",
        "opt = tf.keras.optimizers.Adam(1e-4)"
      ],
      "metadata": {
        "id": "d27gYkvYZrrv"
      },
      "execution_count": 53,
      "outputs": []
    },
    {
      "cell_type": "code",
      "source": [
        "checkpoint_dir = \"./training_checkpoints\"\n",
        "checkpoint_prefix = os.path.join(checkpoint_dir, 'ckpt')\n",
        "checkpoints = tf.train.Checkpoint(opt = opt, siamese_model = siamese_model)"
      ],
      "metadata": {
        "id": "cMLwDwN-ZuDd"
      },
      "execution_count": 59,
      "outputs": []
    },
    {
      "cell_type": "code",
      "source": [
        "test_batch = test_data.as_numpy_iterator().next()\n",
        "len(test_batch)\n",
        "\n",
        "# understanding the data\n",
        "\n",
        "# np.array(test_batch).shape\n",
        "# x = test_batch[:2]\n",
        "# np.array(x).shape\n",
        "# len(test_batch[1])\n",
        "\n",
        "# np.array(sample[0]).shape\n",
        "# len(sample[0][0][0][0])"
      ],
      "metadata": {
        "colab": {
          "base_uri": "https://localhost:8080/",
          "height": 0
        },
        "id": "QgRo3yn1Z9QO",
        "outputId": "cd4828da-0104-4109-f75e-d62cdad3ccc5"
      },
      "execution_count": 60,
      "outputs": [
        {
          "output_type": "execute_result",
          "data": {
            "text/plain": [
              "3"
            ]
          },
          "metadata": {},
          "execution_count": 60
        }
      ]
    },
    {
      "cell_type": "code",
      "source": [
        "@tf.function # this line will make the follwing function will integrate the following function to be a computational grpah!\n",
        "def train_step(batch):\n",
        "\n",
        "    # recording all of our operations\n",
        "    with tf.GradientTape() as tape:\n",
        "\n",
        "        # getting anchor and positive images\n",
        "        X = batch[:2]\n",
        "        y = batch[2]\n",
        "\n",
        "        # forward pass\n",
        "        yhat = siamese_model(X, training = True) # setting training = true madetory for training\n",
        "        # calculate loss\n",
        "        loss = binary_cross_loss(y, yhat)\n",
        "\n",
        "    print(loss)\n",
        "\n",
        "    # calculating gradients\n",
        "    grad = tape.gradient(loss, siamese_model.trainable_variables)\n",
        "\n",
        "    # calcualtes updated weights and apply to the siamese network\n",
        "    opt.apply_gradients(zip(grad, siamese_model.trainable_variables))\n",
        "\n",
        "    return loss"
      ],
      "metadata": {
        "id": "j398cdkgaG3u"
      },
      "execution_count": 61,
      "outputs": []
    },
    {
      "cell_type": "code",
      "source": [
        "def train(data, EPOCHS):\n",
        "\n",
        "    for epoch in range(1, EPOCHS + 1):\n",
        "\n",
        "        print('\\n Epoch {}/{}'.format(epoch, EPOCHS))\n",
        "        progbar = tf.keras.utils.Progbar(len(data)) # to inculcate the progression!\n",
        "\n",
        "        for idx, batch in enumerate(data):\n",
        "            train_step(batch)\n",
        "            progbar.update(idx + 1)\n",
        "\n",
        "        if epoch % 10 == 0:\n",
        "            checkpoints.save(file_prefix = checkpoint_prefix)"
      ],
      "metadata": {
        "id": "dlrh_4VLaJnJ"
      },
      "execution_count": 62,
      "outputs": []
    },
    {
      "cell_type": "code",
      "source": [
        "EPOCHS = 50\n",
        "train(train_data, EPOCHS)"
      ],
      "metadata": {
        "colab": {
          "base_uri": "https://localhost:8080/",
          "height": 0
        },
        "id": "9BpkdXwGaMJ3",
        "outputId": "4fa8231c-a4ab-4810-f186-dc48b9891a10"
      },
      "execution_count": 63,
      "outputs": [
        {
          "output_type": "stream",
          "name": "stdout",
          "text": [
            "\n",
            " Epoch 1/50\n",
            "Tensor(\"binary_crossentropy/weighted_loss/value:0\", shape=(), dtype=float32)\n",
            "26/27 [===========================>..] - ETA: 0sTensor(\"binary_crossentropy/weighted_loss/value:0\", shape=(), dtype=float32)\n",
            "27/27 [==============================] - 6s 210ms/step\n",
            "\n",
            " Epoch 2/50\n",
            "27/27 [==============================] - 5s 189ms/step\n",
            "\n",
            " Epoch 3/50\n",
            "27/27 [==============================] - 5s 190ms/step\n",
            "\n",
            " Epoch 4/50\n",
            "27/27 [==============================] - 5s 191ms/step\n",
            "\n",
            " Epoch 5/50\n",
            "27/27 [==============================] - 5s 192ms/step\n",
            "\n",
            " Epoch 6/50\n",
            "27/27 [==============================] - 5s 192ms/step\n",
            "\n",
            " Epoch 7/50\n",
            "27/27 [==============================] - 5s 193ms/step\n",
            "\n",
            " Epoch 8/50\n",
            "27/27 [==============================] - 5s 192ms/step\n",
            "\n",
            " Epoch 9/50\n",
            "27/27 [==============================] - 5s 192ms/step\n",
            "\n",
            " Epoch 10/50\n",
            "27/27 [==============================] - 5s 191ms/step\n",
            "\n",
            " Epoch 11/50\n",
            "27/27 [==============================] - 5s 190ms/step\n",
            "\n",
            " Epoch 12/50\n",
            "27/27 [==============================] - 5s 190ms/step\n",
            "\n",
            " Epoch 13/50\n",
            "27/27 [==============================] - 5s 189ms/step\n",
            "\n",
            " Epoch 14/50\n",
            "27/27 [==============================] - 5s 189ms/step\n",
            "\n",
            " Epoch 15/50\n",
            "27/27 [==============================] - 5s 190ms/step\n",
            "\n",
            " Epoch 16/50\n",
            "27/27 [==============================] - 5s 189ms/step\n",
            "\n",
            " Epoch 17/50\n",
            "27/27 [==============================] - 5s 189ms/step\n",
            "\n",
            " Epoch 18/50\n",
            "27/27 [==============================] - 5s 190ms/step\n",
            "\n",
            " Epoch 19/50\n",
            "27/27 [==============================] - 5s 190ms/step\n",
            "\n",
            " Epoch 20/50\n",
            "27/27 [==============================] - 5s 190ms/step\n",
            "\n",
            " Epoch 21/50\n",
            "27/27 [==============================] - 5s 190ms/step\n",
            "\n",
            " Epoch 22/50\n",
            "27/27 [==============================] - 5s 190ms/step\n",
            "\n",
            " Epoch 23/50\n",
            "27/27 [==============================] - 5s 191ms/step\n",
            "\n",
            " Epoch 24/50\n",
            "27/27 [==============================] - 5s 190ms/step\n",
            "\n",
            " Epoch 25/50\n",
            "27/27 [==============================] - 5s 190ms/step\n",
            "\n",
            " Epoch 26/50\n",
            "27/27 [==============================] - 5s 190ms/step\n",
            "\n",
            " Epoch 27/50\n",
            "27/27 [==============================] - 5s 191ms/step\n",
            "\n",
            " Epoch 28/50\n",
            "27/27 [==============================] - 5s 190ms/step\n",
            "\n",
            " Epoch 29/50\n",
            "27/27 [==============================] - 5s 190ms/step\n",
            "\n",
            " Epoch 30/50\n",
            "27/27 [==============================] - 5s 190ms/step\n",
            "\n",
            " Epoch 31/50\n",
            "27/27 [==============================] - 5s 189ms/step\n",
            "\n",
            " Epoch 32/50\n",
            "27/27 [==============================] - 5s 190ms/step\n",
            "\n",
            " Epoch 33/50\n",
            "27/27 [==============================] - 5s 190ms/step\n",
            "\n",
            " Epoch 34/50\n",
            "27/27 [==============================] - 5s 190ms/step\n",
            "\n",
            " Epoch 35/50\n",
            "27/27 [==============================] - 5s 190ms/step\n",
            "\n",
            " Epoch 36/50\n",
            "27/27 [==============================] - 5s 190ms/step\n",
            "\n",
            " Epoch 37/50\n",
            "27/27 [==============================] - 5s 190ms/step\n",
            "\n",
            " Epoch 38/50\n",
            "27/27 [==============================] - 5s 190ms/step\n",
            "\n",
            " Epoch 39/50\n",
            "27/27 [==============================] - 5s 191ms/step\n",
            "\n",
            " Epoch 40/50\n",
            "27/27 [==============================] - 5s 191ms/step\n",
            "\n",
            " Epoch 41/50\n",
            "27/27 [==============================] - 5s 190ms/step\n",
            "\n",
            " Epoch 42/50\n",
            "27/27 [==============================] - 5s 190ms/step\n",
            "\n",
            " Epoch 43/50\n",
            "27/27 [==============================] - 5s 190ms/step\n",
            "\n",
            " Epoch 44/50\n",
            "27/27 [==============================] - 5s 190ms/step\n",
            "\n",
            " Epoch 45/50\n",
            "27/27 [==============================] - 5s 191ms/step\n",
            "\n",
            " Epoch 46/50\n",
            "27/27 [==============================] - 5s 190ms/step\n",
            "\n",
            " Epoch 47/50\n",
            "27/27 [==============================] - 5s 190ms/step\n",
            "\n",
            " Epoch 48/50\n",
            "27/27 [==============================] - 5s 190ms/step\n",
            "\n",
            " Epoch 49/50\n",
            "27/27 [==============================] - 5s 190ms/step\n",
            "\n",
            " Epoch 50/50\n",
            "27/27 [==============================] - 5s 190ms/step\n"
          ]
        }
      ]
    },
    {
      "cell_type": "code",
      "source": [
        "from tensorflow.keras.metrics import Precision, Recall"
      ],
      "metadata": {
        "id": "fK4KkR2zaOOE"
      },
      "execution_count": 64,
      "outputs": []
    },
    {
      "cell_type": "code",
      "source": [
        "test_input, test_val, y_true = test_data.as_numpy_iterator().next()"
      ],
      "metadata": {
        "id": "d9MXUffddjm6"
      },
      "execution_count": 65,
      "outputs": []
    },
    {
      "cell_type": "code",
      "source": [
        "test_var = test_data.as_numpy_iterator().next()\n",
        "test_var"
      ],
      "metadata": {
        "id": "h-THXrd2eW52"
      },
      "execution_count": null,
      "outputs": []
    },
    {
      "cell_type": "code",
      "source": [
        "len(test_input[0])"
      ],
      "metadata": {
        "colab": {
          "base_uri": "https://localhost:8080/",
          "height": 0
        },
        "id": "z8TjrEqaecaG",
        "outputId": "8c80d4a7-c279-4a44-8e40-bc838b80af2d"
      },
      "execution_count": 76,
      "outputs": [
        {
          "output_type": "execute_result",
          "data": {
            "text/plain": [
              "100"
            ]
          },
          "metadata": {},
          "execution_count": 76
        }
      ]
    },
    {
      "cell_type": "code",
      "source": [
        "siamese_model.save('siamese_model.h5')"
      ],
      "metadata": {
        "colab": {
          "base_uri": "https://localhost:8080/",
          "height": 0
        },
        "id": "K6IujWHfehg1",
        "outputId": "9351d77a-3c4b-4774-962d-23fd7d6c81e9"
      },
      "execution_count": 79,
      "outputs": [
        {
          "output_type": "stream",
          "name": "stderr",
          "text": [
            "WARNING:tensorflow:Compiled the loaded model, but the compiled metrics have yet to be built. `model.compile_metrics` will be empty until you train or evaluate the model.\n"
          ]
        }
      ]
    },
    {
      "cell_type": "code",
      "source": [
        "predictions"
      ],
      "metadata": {
        "id": "6qlyp2XUfDuq"
      },
      "execution_count": null,
      "outputs": []
    }
  ]
}